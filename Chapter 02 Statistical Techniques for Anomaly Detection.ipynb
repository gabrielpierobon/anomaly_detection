{
 "cells": [
  {
   "cell_type": "markdown",
   "metadata": {},
   "source": [
    "## Chapter 2: Statistical Techniques for Anomaly Detection"
   ]
  },
  {
   "cell_type": "markdown",
   "metadata": {},
   "source": [
    "### Z-Test"
   ]
  },
  {
   "cell_type": "code",
   "execution_count": 1,
   "metadata": {},
   "outputs": [
    {
     "name": "stdout",
     "output_type": "stream",
     "text": [
      "Z-Score: -3.631948749571147, P-Value: 0.00028837831940553923\n"
     ]
    }
   ],
   "source": [
    "from scipy import stats\n",
    "import numpy as np\n",
    "\n",
    "# Generate random data\n",
    "np.random.seed(0)\n",
    "group1 = np.random.normal(0.1, 1.0, 1000)\n",
    "group2 = np.random.normal(0.2, 1.0, 1000)\n",
    "\n",
    "# Perform Z-Test\n",
    "z_score, p_value = stats.ttest_ind(group1, group2)\n",
    "print(f\"Z-Score: {z_score}, P-Value: {p_value}\")"
   ]
  },
  {
   "cell_type": "code",
   "execution_count": 1,
   "metadata": {},
   "outputs": [
    {
     "name": "stdout",
     "output_type": "stream",
     "text": [
      "Z-Score: -3.631948749571147, P-Value: 0.00028837831940553923\n"
     ]
    },
    {
     "data": {
      "image/png": "[encoded data removed]",
      "text/plain": [
       "<Figure size 432x288 with 1 Axes>"
      ]
     },
     "metadata": {
      "needs_background": "light"
     },
     "output_type": "display_data"
    }
   ],
   "source": [
    "import numpy as np\n",
    "from scipy import stats\n",
    "import matplotlib.pyplot as plt\n",
    "\n",
    "# Generate random data\n",
    "np.random.seed(0)\n",
    "group1 = np.random.normal(0.1, 1.0, 1000)\n",
    "group2 = np.random.normal(0.2, 1.0, 1000)\n",
    "\n",
    "# Perform Z-Test\n",
    "z_score, p_value = stats.ttest_ind(group1, group2)\n",
    "print(f\"Z-Score: {z_score}, P-Value: {p_value}\")\n",
    "\n",
    "# Plot the data\n",
    "labels = ['Group 1', 'Group 2']\n",
    "plt.boxplot([group1, group2], labels=labels)\n",
    "plt.title(\"Box plot of Group 1 and Group 2\")\n",
    "plt.ylabel(\"Value\")\n",
    "plt.show()"
   ]
  },
  {
   "cell_type": "markdown",
   "metadata": {},
   "source": [
    "### T-Test"
   ]
  },
  {
   "cell_type": "code",
   "execution_count": 2,
   "metadata": {},
   "outputs": [
    {
     "name": "stdout",
     "output_type": "stream",
     "text": [
      "T-Score: 2.421173504228532, P-Value: 0.018620022435273602\n"
     ]
    },
    {
     "data": {
      "image/png": "[encoded data removed]",
      "text/plain": [
       "<Figure size 432x288 with 1 Axes>"
      ]
     },
     "metadata": {
      "needs_background": "light"
     },
     "output_type": "display_data"
    }
   ],
   "source": [
    "import numpy as np\n",
    "from scipy import stats\n",
    "import matplotlib.pyplot as plt\n",
    "\n",
    "# This example is very similar to the Z-Test example. The difference is that \n",
    "# we are using smaller sample sizes (30 instead of 1000). The T-Test is more \n",
    "# appropriate than the Z-Test when the sample size is small. The interpretation \n",
    "# of the T-Score and P-Value is the same as for the Z-Test.\n",
    "\n",
    "# Generate random data\n",
    "np.random.seed(0)\n",
    "group1 = np.random.normal(0.1, 1.0, 30)\n",
    "group2 = np.random.normal(0.2, 1.0, 30)\n",
    "\n",
    "# Perform T-Test\n",
    "t_score, p_value = stats.ttest_ind(group1, group2)\n",
    "print(f\"T-Score: {t_score}, P-Value: {p_value}\")\n",
    "\n",
    "# Plotting\n",
    "plt.boxplot([group1, group2])\n",
    "plt.xticks([1, 2], ['Group 1', 'Group 2'])\n",
    "plt.title('Box plot of Group 1 and Group 2')\n",
    "plt.ylabel('Value')\n",
    "plt.grid(axis='y')\n",
    "plt.show()"
   ]
  },
  {
   "cell_type": "markdown",
   "metadata": {},
   "source": [
    "### ANOVA (Analysis of Variance)"
   ]
  },
  {
   "cell_type": "code",
   "execution_count": 3,
   "metadata": {},
   "outputs": [
    {
     "name": "stdout",
     "output_type": "stream",
     "text": [
      "F-Score: 3.0583006692442627, P-Value: 0.052048465538565784\n"
     ]
    },
    {
     "data": {
      "image/png": "[encoded data removed]",
      "text/plain": [
       "<Figure size 432x288 with 1 Axes>"
      ]
     },
     "metadata": {
      "needs_background": "light"
     },
     "output_type": "display_data"
    }
   ],
   "source": [
    "import numpy as np\n",
    "import matplotlib.pyplot as plt\n",
    "from scipy import stats\n",
    "\n",
    "# Generate random data\n",
    "np.random.seed(0)\n",
    "group1 = np.random.normal(0.1, 1.0, 30)\n",
    "group2 = np.random.normal(0.2, 1.0, 30)\n",
    "group3 = np.random.normal(0.3, 1.0, 30)\n",
    "\n",
    "# Perform ANOVA\n",
    "f_score, p_value = stats.f_oneway(group1, group2, group3)\n",
    "print(f\"F-Score: {f_score}, P-Value: {p_value}\")\n",
    "\n",
    "# Create a box plot\n",
    "data = [group1, group2, group3]\n",
    "fig, ax = plt.subplots()\n",
    "ax.boxplot(data)\n",
    "ax.set_xticklabels(['Group 1', 'Group 2', 'Group 3'])\n",
    "ax.set_title('Boxplot of Group Data')\n",
    "ax.set_ylabel('Value')\n",
    "plt.show()"
   ]
  },
  {
   "cell_type": "markdown",
   "metadata": {},
   "source": [
    "### Linear Regression"
   ]
  },
  {
   "cell_type": "code",
   "execution_count": 4,
   "metadata": {},
   "outputs": [
    {
     "name": "stdout",
     "output_type": "stream",
     "text": [
      "                            OLS Regression Results                            \n",
      "==============================================================================\n",
      "Dep. Variable:                      y   R-squared:                       0.997\n",
      "Model:                            OLS   Adj. R-squared:                  0.997\n",
      "Method:                 Least Squares   F-statistic:                 3.810e+04\n",
      "Date:                Mon, 26 Jun 2023   Prob (F-statistic):          9.03e-129\n",
      "Time:                        19:31:02   Log-Likelihood:                 85.585\n",
      "No. Observations:                 100   AIC:                            -167.2\n",
      "Df Residuals:                      98   BIC:                            -162.0\n",
      "Df Model:                           1                                         \n",
      "Covariance Type:            nonrobust                                         \n",
      "==============================================================================\n",
      "                 coef    std err          t      P>|t|      [0.025      0.975]\n",
      "------------------------------------------------------------------------------\n",
      "const          0.0075      0.010      0.722      0.472      -0.013       0.028\n",
      "x1             2.0115      0.010    195.193      0.000       1.991       2.032\n",
      "==============================================================================\n",
      "Omnibus:                        5.184   Durbin-Watson:                   1.995\n",
      "Prob(Omnibus):                  0.075   Jarque-Bera (JB):                3.000\n",
      "Skew:                           0.210   Prob(JB):                        0.223\n",
      "Kurtosis:                       2.262   Cond. No.                         1.06\n",
      "==============================================================================\n",
      "\n",
      "Notes:\n",
      "[1] Standard Errors assume that the covariance matrix of the errors is correctly specified.\n"
     ]
    }
   ],
   "source": [
    "import statsmodels.api as sm\n",
    "\n",
    "# Generate random data\n",
    "np.random.seed(0)\n",
    "X = np.random.normal(0, 1.0, 100)\n",
    "Y = 2*X + np.random.normal(0, 0.1, 100)\n",
    "\n",
    "# Add constant to input variables\n",
    "X = sm.add_constant(X)\n",
    "\n",
    "# Perform Linear Regression\n",
    "model = sm.OLS(Y, X)\n",
    "results = model.fit()\n",
    "print(results.summary())"
   ]
  },
  {
   "cell_type": "markdown",
   "metadata": {},
   "source": [
    "## Hands-On with Non-Parametric Tests Using Python"
   ]
  },
  {
   "cell_type": "markdown",
   "metadata": {},
   "source": [
    "### Chi-Square Test"
   ]
  },
  {
   "cell_type": "code",
   "execution_count": 4,
   "metadata": {},
   "outputs": [
    {
     "data": {
      "image/png": "[encoded data removed]",
      "text/plain": [
       "<Figure size 432x288 with 1 Axes>"
      ]
     },
     "metadata": {
      "needs_background": "light"
     },
     "output_type": "display_data"
    }
   ],
   "source": [
    "import numpy as np\n",
    "from scipy.stats import chi2_contingency\n",
    "\n",
    "# Define a 2-D contingency table\n",
    "table = np.array([[10, 20, 30],\n",
    "                  [20, 40, 60]])\n",
    "\n",
    "chi2, p, dof, ex = chi2_contingency(table)\n",
    "\n",
    "print(f\"Chi-Square statistic: {chi2}\")\n",
    "print(f\"P-value: {p}\")\n",
    "print(f\"Degrees of freedom: {dof}\")\n",
    "print(f\"Expected table: \\n{ex}\")"
   ]
  },
  {
   "cell_type": "code",
   "execution_count": 5,
   "metadata": {},
   "outputs": [
    {
     "data": {
      "image/png": "[encoded data removed]",
      "text/plain": [
       "<Figure size 432x288 with 1 Axes>"
      ]
     },
     "metadata": {
      "needs_background": "light"
     },
     "output_type": "display_data"
    }
   ],
   "source": [
    "import numpy as np\n",
    "from scipy.stats import chi2_contingency\n",
    "import matplotlib.pyplot as plt\n",
    "\n",
    "# Define a 2-D contingency table\n",
    "table = np.array([[10, 20, 30],\n",
    "                  [20, 40, 60]])\n",
    "\n",
    "chi2, p, dof, ex = chi2_contingency(table)\n",
    "\n",
    "# Prepare data for box plot\n",
    "observed = table.flatten()\n",
    "expected = ex.flatten()\n",
    "\n",
    "data_to_plot = [observed, expected]\n",
    "\n",
    "# Create a box plot\n",
    "fig, ax = plt.subplots()\n",
    "\n",
    "ax.boxplot(data_to_plot)\n",
    "ax.set_xticklabels(['Observed', 'Expected'])\n",
    "ax.set_title('Box plot of Observed vs. Expected frequencies')\n",
    "ax.set_ylabel('Frequency')\n",
    "\n",
    "plt.show()"
   ]
  },
  {
   "cell_type": "code",
   "execution_count": 6,
   "metadata": {},
   "outputs": [
    {
     "name": "stdout",
     "output_type": "stream",
     "text": [
      "Chi-Square statistic: 468.2352766713519\n",
      "P-value: 2.108635697963909e-102\n",
      "Degrees of freedom: 2\n",
      "Expected table: \n",
      "[[ 52.18965517   1.0862069    6.72413793]\n",
      " [956.81034483  19.9137931  123.27586207]]\n"
     ]
    }
   ],
   "source": [
    "import numpy as np\n",
    "from scipy.stats import chi2_contingency\n",
    "\n",
    "# Define a 2-D contingency table\n",
    "table = np.array([[10, 20, 30],\n",
    "                  [999, 1, 100]])\n",
    "\n",
    "chi2, p, dof, ex = chi2_contingency(table)\n",
    "\n",
    "print(f\"Chi-Square statistic: {chi2}\")\n",
    "print(f\"P-value: {p}\")\n",
    "print(f\"Degrees of freedom: {dof}\")\n",
    "print(f\"Expected table: \\n{ex}\")"
   ]
  },
  {
   "cell_type": "code",
   "execution_count": 6,
   "metadata": {},
   "outputs": [
    {
     "data": {
      "image/png": "[encoded data removed]",
      "text/plain": [
       "<Figure size 432x288 with 1 Axes>"
      ]
     },
     "metadata": {
      "needs_background": "light"
     },
     "output_type": "display_data"
    }
   ],
   "source": [
    "import numpy as np\n",
    "from scipy.stats import chi2_contingency\n",
    "import matplotlib.pyplot as plt\n",
    "\n",
    "# Define a 2-D contingency table\n",
    "table = np.array([[10, 20, 30],\n",
    "                  [999, 1, 100]])\n",
    "\n",
    "chi2, p, dof, ex = chi2_contingency(table)\n",
    "\n",
    "# Set up the bar positions\n",
    "barWidth = 0.35\n",
    "r1 = np.arange(len(table[0]))\n",
    "r2 = [x + barWidth for x in r1]\n",
    "\n",
    "# Create bars\n",
    "plt.bar(r1, table[0], width=barWidth, color='blue', label='Observed Row 1')\n",
    "plt.bar(r1, table[1], width=barWidth, bottom=table[0], color='lightblue', label='Observed Row 2')\n",
    "\n",
    "plt.bar(r2, ex[0], width=barWidth, color='red', label='Expected Row 1', alpha=0.7)\n",
    "plt.bar(r2, ex[1], width=barWidth, bottom=ex[0], color='pink', label='Expected Row 2', alpha=0.7)\n",
    "\n",
    "# Customize plot\n",
    "plt.xlabel('Categories')\n",
    "plt.ylabel('Frequencies')\n",
    "plt.title('Observed vs Expected frequencies for each cell')\n",
    "plt.xticks([r + barWidth for r in range(len(table[0]))], ['Category 1', 'Category 2', 'Category 3'])\n",
    "plt.legend()\n",
    "\n",
    "# Show plot\n",
    "plt.show()"
   ]
  },
  {
   "cell_type": "markdown",
   "metadata": {},
   "source": [
    "### Mann-Whitney U Test"
   ]
  },
  {
   "cell_type": "code",
   "execution_count": 7,
   "metadata": {},
   "outputs": [
    {
     "name": "stdout",
     "output_type": "stream",
     "text": [
      "U statistic: 0.0\n",
      "P-value: 0.006092890177672406\n"
     ]
    },
    {
     "data": {
      "image/png": "[encoded data removed]",
      "text/plain": [
       "<Figure size 432x288 with 1 Axes>"
      ]
     },
     "metadata": {
      "needs_background": "light"
     },
     "output_type": "display_data"
    }
   ],
   "source": [
    "import matplotlib.pyplot as plt\n",
    "from scipy.stats import mannwhitneyu\n",
    "\n",
    "# Two groups of data\n",
    "group1 = [1, 2, 3, 4, 5]\n",
    "group2 = [6, 7, 8, 9, 10]\n",
    "\n",
    "# Perform the Mann-Whitney U Test\n",
    "u, p = mannwhitneyu(group1, group2)\n",
    "\n",
    "print(f\"U statistic: {u}\")\n",
    "print(f\"P-value: {p}\")\n",
    "\n",
    "# Create a box plot of the two groups\n",
    "plt.boxplot([group1, group2], vert=True, patch_artist=True, labels=['Group 1', 'Group 2'])\n",
    "\n",
    "# Customize the appearance\n",
    "plt.title('Box plot of Group 1 and Group 2')\n",
    "plt.ylabel('Value')\n",
    "plt.grid(axis='y')\n",
    "\n",
    "# Show the plot\n",
    "plt.show()"
   ]
  },
  {
   "cell_type": "code",
   "execution_count": 8,
   "metadata": {},
   "outputs": [
    {
     "data": {
      "image/png": "[encoded data removed]",
      "text/plain": [
       "<Figure size 432x288 with 1 Axes>"
      ]
     },
     "metadata": {
      "needs_background": "light"
     },
     "output_type": "display_data"
    },
    {
     "name": "stdout",
     "output_type": "stream",
     "text": [
      "U statistic: 12.5\n",
      "P-value: 0.45776498668838594\n"
     ]
    }
   ],
   "source": [
    "import matplotlib.pyplot as plt\n",
    "from scipy.stats import mannwhitneyu\n",
    "\n",
    "# Two groups of data\n",
    "group1 = [1, 2, 3, 4, 5]\n",
    "group2 = [2, 1, 4, 3, 5]\n",
    "\n",
    "# Plotting\n",
    "labels = ['Group 1', 'Group 2']\n",
    "data = [group1, group2]\n",
    "\n",
    "# Create a figure and axis\n",
    "fig, ax = plt.subplots()\n",
    "\n",
    "# Create boxplot\n",
    "ax.boxplot(data, vert=True, patch_artist=True, labels=labels)\n",
    "\n",
    "# Setting title and labels\n",
    "ax.set_title('Box plot of Group 1 and Group 2')\n",
    "ax.set_ylabel('Values')\n",
    "\n",
    "# Show the plot\n",
    "plt.show()\n",
    "\n",
    "# Perform the Mann-Whitney U Test\n",
    "u, p = mannwhitneyu(group1, group2)\n",
    "\n",
    "print(f\"U statistic: {u}\")\n",
    "print(f\"P-value: {p}\")"
   ]
  },
  {
   "cell_type": "markdown",
   "metadata": {},
   "source": [
    "### Kruskal-Wallis Test"
   ]
  },
  {
   "cell_type": "code",
   "execution_count": 10,
   "metadata": {},
   "outputs": [
    {
     "name": "stdout",
     "output_type": "stream",
     "text": [
      "H statistic: 9.962909090909088\n",
      "P-value: 0.006864071189260182\n"
     ]
    },
    {
     "data": {
      "image/png": "[encoded data removed]",
      "text/plain": [
       "<Figure size 720x432 with 1 Axes>"
      ]
     },
     "metadata": {
      "needs_background": "light"
     },
     "output_type": "display_data"
    }
   ],
   "source": [
    "import matplotlib.pyplot as plt\n",
    "import seaborn as sns\n",
    "from scipy.stats import kruskal\n",
    "\n",
    "# Three groups of data\n",
    "group1 = [1, 2, 3, 4, 5]\n",
    "group2 = [1, 2, 3, 1, 2]\n",
    "group3 = [5, 6, 7, 8, 9]\n",
    "\n",
    "# Perform the Kruskal-Wallis Test\n",
    "h, p = kruskal(group1, group2, group3)\n",
    "\n",
    "print(f\"H statistic: {h}\")\n",
    "print(f\"P-value: {p}\")\n",
    "\n",
    "# Create the box plot\n",
    "data = [group1, group2, group3]\n",
    "labels = ['Group 1', 'Group 2', 'Group 3']\n",
    "\n",
    "plt.figure(figsize=(10, 6))\n",
    "sns.boxplot(data=data)\n",
    "plt.xticks(ticks=[0, 1, 2], labels=labels)\n",
    "plt.title(\"Box plot of the three groups\")\n",
    "plt.grid(axis='y')\n",
    "\n",
    "plt.show()"
   ]
  },
  {
   "cell_type": "markdown",
   "metadata": {},
   "source": [
    "### Spearman's Rank Correlation"
   ]
  },
  {
   "cell_type": "code",
   "execution_count": 11,
   "metadata": {},
   "outputs": [
    {
     "data": {
      "image/png": "[encoded data removed]",
      "text/plain": [
       "<Figure size 432x288 with 1 Axes>"
      ]
     },
     "metadata": {
      "needs_background": "light"
     },
     "output_type": "display_data"
    }
   ],
   "source": [
    "import matplotlib.pyplot as plt\n",
    "from scipy.stats import spearmanr\n",
    "\n",
    "# Two sets of data\n",
    "data1 = [1, 2, 3, 4, 5]\n",
    "data2 = [5, 6, 7, 8, 7]\n",
    "\n",
    "# Perform Spearman's Rank Correlation\n",
    "corr, p = spearmanr(data1, data2)\n",
    "\n",
    "# Create scatter plot\n",
    "plt.scatter(data1, data2, color='blue', label='Data Points')\n",
    "\n",
    "# Annotate with the correlation coefficient and p-value\n",
    "plt.text(min(data1), max(data2), \n",
    "         f\"Spearman's correlation: {corr:.2f}\\nP-value: {p:.2e}\", \n",
    "         va='top', fontsize=9, bbox=dict(boxstyle=\"round,pad=0.3\", \n",
    "         facecolor=\"white\", edgecolor=\"gray\", linewidth=1))\n",
    "\n",
    "# Set title and labels\n",
    "plt.title(\"Scatter Plot with Spearman's Rank Correlation\")\n",
    "plt.xlabel('Data1')\n",
    "plt.ylabel('Data2')\n",
    "\n",
    "# Display plot\n",
    "plt.legend()\n",
    "plt.grid(True)\n",
    "plt.tight_layout()\n",
    "plt.show()"
   ]
  },
  {
   "cell_type": "markdown",
   "metadata": {},
   "source": [
    "## Grubbs' Test for Outlier detection\n",
    "\n",
    "The Grubbs' test (named after Frank E. Grubbs), also known as the maximum normalized residual test or extreme studentized deviate test, is a statistical test used to detect outliers in a univariate data set assumed to come from a normally distributed population.\n",
    "\n",
    "The test works by computing a statistic, \\(G\\), which is based on the sample mean, the sample standard deviation, and the absolute difference between the sample mean and each individual observation. The observation corresponding to the maximum \\(G\\) value is the potential outlier.\n",
    "\n",
    "The formula for the Grubbs' statistic is:\n",
    "\n",
    "$$\n",
    "G = \\frac{{\\max_{i=1}^n |Y_i - \\bar{Y}|}}{s}\n",
    "$$\n",
    "\n",
    "where:\n",
    "\n",
    "\n",
    "- $Y_i$ is the ith observation,\n",
    "- $\\bar{Y}$ is the sample mean,\n",
    "- $s$ is the sample standard deviation,\n",
    "- $n$ is the number of observations.\n",
    "\n",
    "\n",
    "The null hypothesis is that there are no outliers in the data set. A large \\(G\\) value suggests that the corresponding observation is an outlier. The test is usually performed at a significance level of 0.05, meaning that the null hypothesis is rejected (and the observation is declared an outlier) if the p-value of the test is less than 0.05.\n",
    "\n",
    "Here's the step-by-step process:\n",
    "\n",
    "1. **Calculate the sample mean and standard deviation.** Given a sample of n observations, calculate the sample mean (average) and the sample standard deviation. The sample mean is calculated as:\n",
    "\n",
    "   $$\n",
    "   \\bar{Y} = \\frac{1}{n} \\sum_{i=1}^{n} Y_i\n",
    "   $$\n",
    "\n",
    "   and the sample standard deviation is calculated as:\n",
    "\n",
    "   $$\n",
    "   s = \\sqrt{\\frac{1}{n-1} \\sum_{i=1}^{n} (Y_i - \\bar{Y})^2}\n",
    "   $$\n",
    "\n",
    "   where $Y_i$ is the ith observation.\n",
    "\n",
    "2. **Calculate the absolute deviation of each observation from the sample mean.** For each observation $Y_i$, calculate the absolute deviation from the sample mean, $|Y_i - \\bar{Y}|$.\n",
    "\n",
    "3. **Calculate the Grubbs' statistic.** The Grubbs' statistic, G, is the maximum of the absolute deviations divided by the sample standard deviation:\n",
    "\n",
    "   $$\n",
    "   G = \\frac{{\\max_{i=1}^n |Y_i - \\bar{Y}|}}{s}\n",
    "   $$\n",
    "\n",
    "4. **Calculate the critical value.** The critical value is calculated from the t-distribution with $n-2$ degrees of freedom and a significance level of $\\alpha/n$. The formula is:\n",
    "\n",
    "   $$\n",
    "   G_{crit} = \\frac{(n-1)\\sqrt{t_{\\alpha/(2n), n-2}^2}}{\\sqrt{n(t_{\\alpha/(2n), n-2}^2 + n - 2)}}\n",
    "   $$\n",
    "\n",
    "   where $t_{\\alpha/(2n), n-2}$ is the critical value from the t-distribution with $n-2$ degrees of freedom and a significance level of $\\alpha/n$.\n",
    "\n",
    "5. **Compare the Grubbs' statistic to the critical value.** If $G > G_{crit}$, then the null hypothesis that there are no outliers is rejected, and the observation corresponding to the maximum absolute deviation is declared an outlier.\n",
    "\n",
    "\n",
    "\n",
    "# Assumptions and Limitations\n",
    "While Grubbs' Test is a useful tool for detecting single outliers, it does have its limitations:\n",
    "\n",
    "* The test assumes that the data are normally distributed. This assumption can be evaluated using a normality test, such as the Shapiro-Wilk test.\n",
    "* Grubbs' Test typically only tests for one outlier at a time. The test is intended to be used iteratively, testing and removing one outlier at a time. However, keep in mind that each time you use the test, you're effectively inflating the alpha level (i.e., the probability of making a Type I error). So use with caution if you plan to use Grubbs' test iteratively.\n",
    "* Outliers should be removed only if they can be objectively and scientifically explained. They may be due to data entry errors, measurement errors, or other phenomena. Do not remove outliers just to achieve a more desirable statistical result."
   ]
  },
  {
   "cell_type": "markdown",
   "metadata": {},
   "source": [
    "# Applying Grubb's test iteratively for multiple outliers:\n",
    "Grubbs' Test is designed to test for a single outlier at a time in normally distributed datasets. This means that if there is more than one outlier in the dataset, Grubbs' Test will only identify the most extreme one.\n",
    "\n",
    "If you suspect that there may be multiple outliers in your dataset, you could apply Grubbs' Test iteratively. In each iteration, you remove the most extreme outlier detected by the test (provided that the test indicates it is indeed an outlier), and then reapply the test to the remaining data. This process can be continued until no further outliers are detected.\n",
    "\n",
    "However, keep in mind that this iterative procedure may increase the chances of Type I error (false positives), especially if the dataset is large or if the number of true outliers is small. This is because the more tests you perform, the greater the chance that you'll find an \"outlier\" just by chance. Therefore, if you're planning to use Grubbs' Test iteratively, it's important to use a suitable method to control the family-wise error rate, such as the Bonferroni correction."
   ]
  },
  {
   "cell_type": "code",
   "execution_count": 11,
   "metadata": {},
   "outputs": [
    {
     "name": "stdout",
     "output_type": "stream",
     "text": [
      "Number of data points: 30\n",
      "Mean of data: 0.548400636350699\n",
      "Standard Deviation of data: 1.2125864203903554\n",
      "\n",
      "Z-Scores\n",
      "[ 1.00252789 -0.12225391  0.35489211  1.39577067  1.08788729 -1.25820188\n",
      "  0.33126528 -0.57707874 -0.53737983 -0.11364315 -0.3334666   0.7470584\n",
      "  0.1753583  -0.35191357 -0.08621027  2.43413526  0.77988539 -0.62144758\n",
      " -0.19407519 -1.1566156  -2.5576655   0.08677151  0.26062931 -1.06430819\n",
      "  1.41957221 -1.65164831 -0.41452066 -0.60662438  0.81180076  0.75949897]\n",
      "Max Absolute Z-Score: 2.557665499162014 located at index 20\n",
      "\n",
      "Outlier detected at index 20.\n"
     ]
    }
   ],
   "source": [
    "import numpy as np\n",
    "import scipy.stats as stats\n",
    "\n",
    "# Set the random seed for reproducibility\n",
    "np.random.seed(0)\n",
    "\n",
    "# Generate 30 data points from a normal distribution with mean 0 and standard deviation 1\n",
    "data = np.random.normal(0, 1, 30)\n",
    "\n",
    "# Introduce an outlier\n",
    "data[15] = 3.5\n",
    "\n",
    "# Define Grubbs' Test function\n",
    "def grubbs_test(data, alpha=0.05):\n",
    "    n = len(data)\n",
    "    mean = np.mean(data)\n",
    "    std_dev = np.std(data)\n",
    "    z_scores = (data - mean) / std_dev\n",
    "    abs_z_scores = np.abs((data - mean) / std_dev)\n",
    "    max_z_score = np.max(abs_z_scores)\n",
    "    max_z_score_index = np.argmax(abs_z_scores)\n",
    "    \n",
    "    print(f\"Number of data points: {n}\")\n",
    "    print(f\"Mean of data: {mean}\")\n",
    "    print(f\"Standard Deviation of data: {std_dev}\")\n",
    "    print(\"\\nZ-Scores\")\n",
    "    print(z_scores)\n",
    "    print(f\"Max Absolute Z-Score: {max_z_score} located at index {max_z_score_index}\\n\")\n",
    "\n",
    "    # Calculate the Grubbs' Test statistic\n",
    "    G_calculated = (n-1) * np.sqrt(max_z_score**2 / (n-2+max_z_score**2))\n",
    "\n",
    "    # Look up the critical value of the Grubbs' Test statistic from the t-distribution\n",
    "    t_critical = stats.t.ppf(1 - alpha / (2*n), n-2)\n",
    "    G_critical = ((n-1) / np.sqrt(n)) * np.sqrt(t_critical**2 / (n-2 + t_critical**2))\n",
    "\n",
    "    # If the calculated test statistic is larger than the critical value, then reject the null hypothesis and mark the data point as an outlier\n",
    "    if G_calculated > G_critical:\n",
    "        print(f\"Outlier detected at index {max_z_score_index}.\")\n",
    "        outlier = True\n",
    "    else:\n",
    "        print(\"No outliers detected.\")\n",
    "        outlier = False\n",
    "\n",
    "    return max_z_score_index, outlier\n",
    "\n",
    "\n",
    "# Call the Grubbs' Test function on our data\n",
    "outlier_index, is_outlier = grubbs_test(data)"
   ]
  },
  {
   "cell_type": "code",
   "execution_count": 13,
   "metadata": {},
   "outputs": [
    {
     "data": {
      "image/png": "[encoded data removed]",
      "text/plain": [
       "<Figure size 720x432 with 1 Axes>"
      ]
     },
     "metadata": {
      "needs_background": "light"
     },
     "output_type": "display_data"
    },
    {
     "data": {
      "image/png": "[encoded data removed]",
      "text/plain": [
       "<Figure size 720x432 with 1 Axes>"
      ]
     },
     "metadata": {
      "needs_background": "light"
     },
     "output_type": "display_data"
    }
   ],
   "source": [
    "import matplotlib.pyplot as plt\n",
    "\n",
    "# Create a scatter plot of the data\n",
    "plt.figure(figsize=(10, 6))\n",
    "plt.scatter(range(len(data)), data, color='blue', label='Data points')\n",
    "if is_outlier:\n",
    "    plt.scatter(outlier_index, data[outlier_index], color='red', label='Outlier')\n",
    "plt.axhline(y=np.mean(data), color='green', linestyle='-', label='Mean')\n",
    "plt.legend()\n",
    "plt.title('Data points and Outlier')\n",
    "plt.xlabel('Index')\n",
    "plt.ylabel('Value')\n",
    "plt.show()\n",
    "\n",
    "# Create a histogram of the data\n",
    "plt.figure(figsize=(10, 6))\n",
    "plt.hist(data, bins=20, color='blue', alpha=0.7, label='Data points')\n",
    "if is_outlier:\n",
    "    plt.axvline(x=data[outlier_index], color='red', linestyle='-', label='Outlier')\n",
    "plt.axvline(x=np.mean(data), color='green', linestyle='-', label='Mean')\n",
    "plt.legend()\n",
    "plt.title('Histogram and Outlier')\n",
    "plt.xlabel('Value')\n",
    "plt.ylabel('Frequency')\n",
    "plt.show()"
   ]
  },
  {
   "cell_type": "markdown",
   "metadata": {},
   "source": [
    "# Detecting Multivariate Outliers with Mahalanobis Distance"
   ]
  },
  {
   "cell_type": "markdown",
   "metadata": {},
   "source": [
    "# Mahalanobis Distance\n",
    "\n",
    "The Mahalanobis distance is a measure of the distance between a point $P$ and a distribution $D$. It is a multi-dimensional generalization of the idea of measuring how many standard deviations away $P$ is from the mean of $D$.\n",
    "\n",
    "For a point $P$ with coordinates $(x_1, x_2, ..., x_n)$ in an $n$-dimensional space, the Mahalanobis distance $D_M$ of $P$ to the center of a set of points is calculated as:\n",
    "\n",
    "$$\n",
    "D_M = \\sqrt{ (P - \\mu)^T \\Sigma^{-1} (P - \\mu) }\n",
    "$$\n",
    "\n",
    "where:\n",
    "- $P$ is the point vector,\n",
    "- $\\mu$ is the mean vector of the distribution,\n",
    "- $\\Sigma$ is the covariance matrix of the distribution, and\n",
    "- $T$ denotes a matrix transpose.\n",
    "\n",
    "The Mahalanobis distance takes into account the correlations of the data set and is scale-invariant. Unlike Euclidean distance, it considers the variance and covariance of multiple variables.\n",
    "\n",
    "## Mahalanobis Distance Test\n",
    "\n",
    "The Mahalanobis distance can be used in a hypothesis test, the Mahalanobis distance test, to identify multivariate outliers.\n",
    "\n",
    "For a sample size $n$ and dimensionality $p$, the square of the Mahalanobis distance, $D_M^2$, follows a Chi-square distribution with $p$ degrees of freedom under the null hypothesis that the point comes from the distribution. Therefore, if the computed $D_M^2$ is beyond the Chi-square distribution's critical value for a desired significance level (e.g., 0.05), we reject the null hypothesis.\n",
    "\n",
    "The hypothesis testing procedure is as follows:\n",
    "\n",
    "1. Compute the Mahalanobis distance $D_M^2$ for the point in question.\n",
    "2. Determine the Chi-square critical value for $p$ degrees of freedom and the desired significance level.\n",
    "3. If $D_M^2$ > critical value, the point is considered to be an outlier.\n",
    "\n",
    "This test can be very useful in practice for detecting outliers in multivariate data."
   ]
  },
  {
   "cell_type": "code",
   "execution_count": 14,
   "metadata": {},
   "outputs": [
    {
     "name": "stdout",
     "output_type": "stream",
     "text": [
      "Data:\n",
      "[[  2   2]\n",
      " [  5   5]\n",
      " [  8   8]\n",
      " [ 10  10]\n",
      " [ 12  12]\n",
      " [ 15  15]\n",
      " [ 30   1]\n",
      " [  1  30]\n",
      " [200   5]]\n",
      "\n",
      "Mahalanobis distances:\n",
      "[1.42991324 0.69251568 0.25567814 0.13143091 0.14076592 0.40523511\n",
      " 1.19503822 5.87703772 7.87238506]\n",
      "\n",
      "Threshold for outlier detection: 5.991464547107979\n",
      "\n",
      "Outliers:\n",
      "[[200   5]]\n"
     ]
    }
   ],
   "source": [
    "import numpy as np\n",
    "from scipy.stats import chi2\n",
    "from sklearn.covariance import EmpiricalCovariance\n",
    "\n",
    "# Define multivariate data\n",
    "data = np.array([[2, 2], [5, 5], [8, 8], [10, 10], [12, 12], [15, 15], [30, 1], [1, 30], [200,5]])\n",
    "\n",
    "print(f\"Data:\\n{data}\\n\")\n",
    "\n",
    "# Define robust covariance estimator\n",
    "robust_cov = EmpiricalCovariance().fit(data)\n",
    "\n",
    "# Calculate Mahalanobis distance\n",
    "m_dist = robust_cov.mahalanobis(data)\n",
    "\n",
    "print(f\"Mahalanobis distances:\\n{m_dist}\\n\")\n",
    "\n",
    "# Define significance level for outlier detection\n",
    "alpha = 0.05\n",
    "\n",
    "# Calculate threshold (based on chi-squared distribution)\n",
    "thresh = chi2.ppf((1-alpha), df=2)\n",
    "\n",
    "print(f\"Threshold for outlier detection: {thresh}\\n\")\n",
    "\n",
    "# Detect outliers (where Mahalanobis distance exceeds threshold)\n",
    "outliers = data[m_dist > thresh]\n",
    "\n",
    "print(f\"Outliers:\\n{outliers}\")"
   ]
  },
  {
   "cell_type": "code",
   "execution_count": 15,
   "metadata": {},
   "outputs": [
    {
     "name": "stdout",
     "output_type": "stream",
     "text": [
      "Data:\n",
      "     Price  Distance  Emission  Performance  Mileage\n",
      "0   100000     16000       300           60       76\n",
      "1   800000     60000       400           88       89\n",
      "2   650000    300000      1230           90       89\n",
      "3   700000     10000       300           87       57\n",
      "4   860000    252000       400           83       79\n",
      "5   730000    350000       104           81       84\n",
      "6   400000    260000       632           72       78\n",
      "7       20    260000      6302            2     2000\n",
      "8   870000    510000       221           91       99\n",
      "9   780000      2000       142           90       97\n",
      "10  400000      5000       267           93       99\n",
      "\n",
      "Mahalanobis distances:\n",
      "[7.23782241 2.22109829 8.21440824 1.89413229 2.57169465 2.83641857\n",
      " 2.70941648 9.99763797 6.10733273 3.03153561 8.17850277]\n",
      "\n",
      "Threshold for outlier detection: 9.236356899781123\n",
      "\n",
      "Outliers:\n",
      "   Price  Distance  Emission  Performance  Mileage\n",
      "7     20    260000      6302            2     2000\n",
      "Data:\n",
      "     Price  Distance  Emission  Performance  Mileage  distance  outlier\n",
      "0   100000     16000       300           60       76  7.237822    False\n",
      "1   800000     60000       400           88       89  2.221098    False\n",
      "2   650000    300000      1230           90       89  8.214408    False\n",
      "3   700000     10000       300           87       57  1.894132    False\n",
      "4   860000    252000       400           83       79  2.571695    False\n",
      "5   730000    350000       104           81       84  2.836419    False\n",
      "6   400000    260000       632           72       78  2.709416    False\n",
      "7       20    260000      6302            2     2000  9.997638     True\n",
      "8   870000    510000       221           91       99  6.107333    False\n",
      "9   780000      2000       142           90       97  3.031536    False\n",
      "10  400000      5000       267           93       99  8.178503    False\n",
      "\n"
     ]
    }
   ],
   "source": [
    "import numpy as np\n",
    "import pandas as pd\n",
    "from scipy.stats import chi2\n",
    "from sklearn.covariance import EmpiricalCovariance\n",
    "\n",
    "def calculateMahalanobis(data):\n",
    "    robust_cov = EmpiricalCovariance().fit(data)\n",
    "    m_dist = robust_cov.mahalanobis(data)\n",
    "    return m_dist\n",
    "\n",
    "# Define multivariate data\n",
    "data = np.array([[100000, 16000, 300, 60, 76],\n",
    "                 [800000, 60000, 400, 88, 89],\n",
    "                 [650000, 300000, 1230, 90, 89],\n",
    "                 [700000, 10000, 300, 87, 57],\n",
    "                 [860000, 252000, 400, 83, 79],\n",
    "                 [730000, 350000, 104, 81, 84],\n",
    "                 [400000, 260000, 632, 72, 78],\n",
    "                 [20, 260000, 6302, 2, 2000],\n",
    "                 [870000, 510000, 221, 91, 99],\n",
    "                 [780000, 2000, 142, 90, 97],\n",
    "                 [400000, 5000, 267, 93, 99]])\n",
    "\n",
    "# Create a DataFrame\n",
    "columns = ['Price', 'Distance', 'Emission', 'Performance', 'Mileage']\n",
    "df = pd.DataFrame(data, columns=columns)\n",
    "\n",
    "print(f\"Data:\\n{df}\\n\")\n",
    "\n",
    "# Calculate Mahalanobis distances\n",
    "m_dist = calculateMahalanobis(df)\n",
    "\n",
    "print(f\"Mahalanobis distances:\\n{m_dist}\\n\")\n",
    "\n",
    "# Define significance level for outlier detection\n",
    "alpha = 0.10\n",
    "\n",
    "# Calculate threshold (based on chi-squared distribution)\n",
    "thresh = chi2.ppf(1 - alpha, df=df.shape[1])\n",
    "\n",
    "print(f\"Threshold for outlier detection: {thresh}\\n\")\n",
    "\n",
    "# Detect outliers (where Mahalanobis distance exceeds threshold)\n",
    "outliers = df[m_dist > thresh]\n",
    "df['distance'] = m_dist\n",
    "df['outlier'] = df['distance'] > thresh\n",
    "\n",
    "print(f\"Outliers:\\n{outliers}\")\n",
    "\n",
    "print(f\"Data:\\n{df}\\n\")"
   ]
  }
 ],
 "metadata": {
  "kernelspec": {
   "display_name": "Python 3",
   "language": "python",
   "name": "python3"
  },
  "language_info": {
   "codemirror_mode": {
    "name": "ipython",
    "version": 3
   },
   "file_extension": ".py",
   "mimetype": "text/x-python",
   "name": "python",
   "nbconvert_exporter": "python",
   "pygments_lexer": "ipython3",
   "version": "3.8.5"
  }
 },
 "nbformat": 4,
 "nbformat_minor": 4
}
